{
 "cells": [
  {
   "cell_type": "code",
   "execution_count": 32,
   "metadata": {
    "collapsed": false
   },
   "outputs": [],
   "source": [
    "import matplotlib\n",
    "matplotlib.rcParams['backend'] = \"TkAgg\"\n",
    "from Cell2D import Cell2D, Cell2DViewer\n",
    "import time\n",
    "import numpy as np\n",
    "import matplotlib.pyplot as plt\n",
    "from matplotlib import animation\n",
    "from mpl_toolkits.mplot3d import Axes3D\n",
    "\n",
    "\n",
    "class Cell3DViewer(Cell2DViewer):\n",
    "    cmap = matplotlib.cm.get_cmap('RdYlBu')\n",
    "    def __init__(self, viewee):\n",
    "        Cell2DViewer.__init__(self,viewee)\n",
    "        self.fig = plt.figure()\n",
    "        self.fig.set_size_inches(10,10, True)\n",
    "        self.ax1 = self.fig.add_subplot(111, projection='3d')\n",
    "        self.ax1.set_axis_off()\n",
    "        self.ax1.set_zlim(0,10)\n",
    "    \n",
    "    def draw_array(self, array=None, cmap=None, **kwds):\n",
    "        self.get_bars()\n",
    "#         self.fig.canvas.draw()\n",
    "        \n",
    "    def get_bars(self):    \n",
    "        top = self.viewee.array.flatten()\n",
    "        n,m = self.viewee.array.shape\n",
    "        bottom = np.zeros(n*m)\n",
    "        width = depth = 1\n",
    "        _xx, _yy = np.meshgrid(np.arange(n), np.arange(m))\n",
    "        x, y = _xx.ravel(), _yy.ravel()\n",
    "#         norm = matplotlib.colors.Normalize(vmin=0,vmax=10)\n",
    "        colors = [self.cmap(val/5) for val in top]\n",
    "        self.bars = self.ax1.bar3d(x, y, bottom, width, depth, top, color=colors)\n",
    "        \n",
    "    def animate(self, frames=20, interval=200, grid=False):\n",
    "        \"\"\"Creates an animation.\n",
    "\n",
    "        frames: number of frames to draw\n",
    "\n",
    "        interval: time between frames in ms\n",
    "        \"\"\"\n",
    "        self.draw(grid)\n",
    "        anim = animation.FuncAnimation(self.fig, self.animate_func,\n",
    "                                       init_func=self.init_func,\n",
    "                                       frames=frames, interval=interval)\n",
    "        return anim\n",
    "        \n",
    "    def live_animate(self):\n",
    "        plt.show(block=False)\n",
    "        for i in range(100):\n",
    "            self.step()\n",
    "            self.get_bars()\n",
    "            self.fig.canvas.draw()\n",
    "            time.sleep(0.01)\n",
    "            self.bars.remove()\n",
    "\n",
    "                \n",
    "    def animate_func(self, i):\n",
    "#         print(i)\n",
    "        self.bars.remove()\n",
    "        if i>0:\n",
    "            self.step()\n",
    "        self.get_bars()\n",
    "        return (self.bars,)\n",
    "        "
   ]
  },
  {
   "cell_type": "code",
   "execution_count": 42,
   "metadata": {
    "collapsed": true
   },
   "outputs": [],
   "source": [
    "def single_source(pile, height=1024):\n",
    "    \"\"\"Adds a tower to the center cell.\n",
    "    \n",
    "    height: value assigned to the center cell\n",
    "    \"\"\"\n",
    "    a = pile.array\n",
    "    n, m = a.shape\n",
    "    a[:, :] = 0\n",
    "    a[n//2, m//2] = height"
   ]
  },
  {
   "cell_type": "code",
   "execution_count": 3,
   "metadata": {
    "collapsed": false
   },
   "outputs": [
    {
     "ename": "SyntaxError",
     "evalue": "only named arguments may follow *expression (<ipython-input-3-32e23efc7deb>, line 31)",
     "output_type": "error",
     "traceback": [
      "\u001b[0;36m  File \u001b[0;32m\"<ipython-input-3-32e23efc7deb>\"\u001b[0;36m, line \u001b[0;32m31\u001b[0m\n\u001b[0;31m    a_vals = np.linspace(*test_range, 20) # Build a list of elasticity coefficients\u001b[0m\n\u001b[0m                                     ^\u001b[0m\n\u001b[0;31mSyntaxError\u001b[0m\u001b[0;31m:\u001b[0m only named arguments may follow *expression\n"
     ]
    }
   ],
   "source": [
    "from Earthquake import Earthquake\n",
    "import thinkplot\n",
    "from thinkstats2 import Hist, Cdf\n",
    "from scipy.signal import welch\n",
    "from scipy.stats import linregress\n",
    "\n",
    "        \n",
    "\"\"\"\n",
    "Determines the exponent (b) of the power law distribution of earthquake sizes.\n",
    "\"\"\"    \n",
    "def calculate_power_law(self, K=1, KL=1, iters=100000, plot=False):\n",
    "    quake = Earthquake(K=K, KL=KL)\n",
    "    results = [quake.run_quake() for _ in range(iters)]\n",
    "    [T, S] = np.transpose(results)\n",
    "    histS = Hist(S) # make a histo\n",
    "    sizes = range(max(S)) # Build the list of earthquake sizes\n",
    "    params = linregress(np.log(sizes), np.log(histS))\n",
    "    if plot: # If we're plotting, plot on a log-log scale.\n",
    "        thinkplot.Pdf(histS, label='S', linewidth=1)\n",
    "        thinkplot.config(xlabel='Earthquake size',\n",
    "             xlim=[1, sizes[-1]],\n",
    "             ylabel='Number of occurrences',\n",
    "             xscale='log',\n",
    "             yscale='log')\n",
    "\n",
    "    return params[0]\n",
    "\n",
    "\n",
    "def plot_power_law(self, test_range=(0.05, 0.25)):\n",
    "    b_vals = [] # Build the list of exponents as a function of elasticity coefficient\n",
    "    a_vals = np.linspace(*test_range, 20) # Build a list of elasticity coefficients\n",
    "    for alpha in a_vals:\n",
    "        K_val = 1\n",
    "        KL_val = K_val/alpha - 4*K_val # Calculate KL based on K and alpha\n",
    "        exponent = calculate_power_law(K=K_val, KL=KL_val)\n",
    "        b_vals.append(exponent)\n",
    "    thinkplot.plot(a_vals, b_vals, label='Beta')\n",
    "    thinkplot.conffig(xlabel='Elasticity coefficient',\n",
    "                      ylabel='Exponent B')\n",
    "\n",
    "\n",
    "def plot_frequency(self, plot=False):\n",
    "    quake = Earthquake() \n",
    "    quake.run()\n",
    "    amp = quake.slide_seq # Get the list of the number of sliding blocks each timestep\n",
    "    nperseg = 2048\n",
    "    freqs, powers = welch(amp, nperseg=nperseg, fs=nperseg)\n",
    "    if plot: # If we're plotting, plot on a log-log scale.\n",
    "        thinkplot.plot(freqs, powers, label='Power', linewidth=1)\n",
    "        thinkplot.config(xlabel='Frequency',\n",
    "             ylabel='Power',\n",
    "             xscale='log',\n",
    "             yscale='log')\n",
    "    params = linregress(np.log(freqs), np.log(powers))\n",
    "    return params[0]\n",
    "    \n",
    "def find_fractals(self, val=1, dim=1, plot=False):\n",
    "    n_vals = np.linspace(10,100, 20)\n",
    "    cell_counts = []\n",
    "    for size in n_vals:\n",
    "        quake = Earthquake(n=size, f_th=val)\n",
    "        quake.run_quake()\n",
    "        bins = np.linspace(0,val,5)\n",
    "        bins_array = np.digitize(quake.array) # Sort the final forces on each block into bins\n",
    "        fractals_list = (bins_array==dim) # Make a list of arrays with blocks in each bin\n",
    "        cell_counts.append(sum(fractals_list))\n",
    "    if plot: # If we're plotting, plot on a log-log scale.\n",
    "        thinkplot.plot(n_vals, cell_counts, label='Filled cells', linewidth=1)\n",
    "        thinkplot.config(xlabel='Size of earthquake',\n",
    "             ylabel='Number of cells',\n",
    "             xscale='log',\n",
    "             yscale='log')\n",
    "    params = linregress(np.log(n_vals), np.log(cell_counts))\n",
    "    return params[0]\n",
    "    \n",
    "    \n",
    "    \n",
    "    \n"
   ]
  },
  {
   "cell_type": "code",
   "execution_count": 39,
   "metadata": {
    "collapsed": false
   },
   "outputs": [],
   "source": [
    "from Sand import SandPile, SandPileViewer\n",
    "\n",
    "pile = SandPile()\n",
    "single_source(pile, 2**k)\n",
    "\n",
    "viewer = Cell3DViewer(pile)\n",
    "# viewer.live_animate()\n",
    "anim = viewer.animate(frames=400, interval=10)"
   ]
  },
  {
   "cell_type": "code",
   "execution_count": 40,
   "metadata": {
    "collapsed": false,
    "scrolled": true
   },
   "outputs": [
    {
     "data": {
      "text/plain": [
       "<matplotlib.animation.FuncAnimation at 0x7fd1dcc48668>"
      ]
     },
     "execution_count": 40,
     "metadata": {},
     "output_type": "execute_result"
    }
   ],
   "source": [
    "anim"
   ]
  },
  {
   "cell_type": "code",
   "execution_count": 41,
   "metadata": {
    "collapsed": false
   },
   "outputs": [],
   "source": [
    "anim.save('basic_animation.mp4', fps=24, extra_args=['-vcodec', 'libx264'])"
   ]
  },
  {
   "cell_type": "code",
   "execution_count": null,
   "metadata": {
    "collapsed": true
   },
   "outputs": [],
   "source": []
  }
 ],
 "metadata": {
  "kernelspec": {
   "display_name": "Python 3",
   "language": "python",
   "name": "python3"
  },
  "language_info": {
   "codemirror_mode": {
    "name": "ipython",
    "version": 3
   },
   "file_extension": ".py",
   "mimetype": "text/x-python",
   "name": "python",
   "nbconvert_exporter": "python",
   "pygments_lexer": "ipython3",
   "version": "3.4.3"
  }
 },
 "nbformat": 4,
 "nbformat_minor": 2
}
